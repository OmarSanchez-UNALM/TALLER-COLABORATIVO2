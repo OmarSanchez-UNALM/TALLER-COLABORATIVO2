{
 "cells": [
  {
   "cell_type": "markdown",
   "metadata": {},
   "source": [
    "# MONITOREO DE PRECIOS DE CRIPTOMONEDAS A TRAVÉS DE APIs CON ANÁLISIS DE TENDENCIAS"
   ]
  },
  {
   "cell_type": "markdown",
   "metadata": {},
   "source": [
    "## EXTRACCION DE DATOS"
   ]
  },
  {
   "cell_type": "markdown",
   "metadata": {},
   "source": [
    "### Primera API: coingecko"
   ]
  },
  {
   "cell_type": "code",
   "execution_count": 11,
   "metadata": {},
   "outputs": [
    {
     "name": "stdout",
     "output_type": "stream",
     "text": [
      "Error en la solicitud: 429\n",
      "{'status': {'error_code': 429, 'error_message': \"You've exceeded the Rate Limit. Please visit https://www.coingecko.com/en/api/pricing to subscribe to our API plans for higher rate limits.\"}}\n",
      "Datos extraídos: 315 monedas con datos completos\n"
     ]
    }
   ],
   "source": [
    "import requests\n",
    "import pandas as pd\n",
    "\n",
    "# URL de la API para obtener monedas con sus datos relevantes\n",
    "url = \"https://api.coingecko.com/api/v3/coins/markets\"\n",
    "\n",
    "# Parámetros de la solicitud\n",
    "params = {\n",
    "    'vs_currency': 'usd',   # Monedas en USD\n",
    "    'order': 'market_cap_desc',  # Ordenar por capitalización\n",
    "    'per_page': 100,        # Cantidad de monedas por página\n",
    "    'sparkline': False      # Información de gráficos no solicitada\n",
    "}\n",
    "\n",
    "# Función para obtener todas las monedas con datos completos\n",
    "def obtener_datos_moneda(total_monedas_requeridas, parametros_requeridos):\n",
    "    monedas_con_datos = []\n",
    "    page = 1\n",
    "    while len(monedas_con_datos) < total_monedas_requeridas:\n",
    "        params['page'] = page\n",
    "        response = requests.get(url, params=params)\n",
    "        if response.status_code == 200:\n",
    "            data = response.json()\n",
    "            monedas_filtradas = filtrar_datos_completos(data, parametros_requeridos)\n",
    "            monedas_con_datos.extend(monedas_filtradas)\n",
    "            page += 1\n",
    "        else:\n",
    "            print(\"Error en la solicitud:\", response.status_code)\n",
    "            print(response.json())\n",
    "            break\n",
    "    return monedas_con_datos\n",
    "\n",
    "# Función para filtrar monedas con datos completos\n",
    "def filtrar_datos_completos(monedas, parametros_requeridos):\n",
    "    monedas_con_datos = []\n",
    "    for moneda in monedas:\n",
    "        tiene_datos_completos = all(moneda[param] is not None for param in parametros_requeridos)\n",
    "        if tiene_datos_completos:\n",
    "            monedas_con_datos.append(moneda)\n",
    "    return monedas_con_datos\n",
    "\n",
    "# Parámetros requeridos\n",
    "parametros_requeridos = ['current_price', 'total_volume', 'market_cap', 'circulating_supply', 'total_supply', 'max_supply', 'ath_date', 'atl_date']\n",
    "\n",
    "# Obtener las monedas con datos completos\n",
    "total_monedas_requeridas = 500\n",
    "monedas_filtradas = obtener_datos_moneda(total_monedas_requeridas, parametros_requeridos)\n",
    "\n",
    "# Convertir a DataFrame\n",
    "df_monedas = pd.DataFrame(monedas_filtradas)\n",
    "\n",
    "# Imprimir la cantidad de datos extraídos\n",
    "print(f\"Datos extraídos: {len(df_monedas)} monedas con datos completos\")"
   ]
  },
  {
   "cell_type": "code",
   "execution_count": 12,
   "metadata": {},
   "outputs": [
    {
     "name": "stdout",
     "output_type": "stream",
     "text": [
      "Index(['id', 'symbol', 'name', 'image', 'current_price', 'market_cap',\n",
      "       'market_cap_rank', 'fully_diluted_valuation', 'total_volume',\n",
      "       'high_24h', 'low_24h', 'price_change_24h',\n",
      "       'price_change_percentage_24h', 'market_cap_change_24h',\n",
      "       'market_cap_change_percentage_24h', 'circulating_supply',\n",
      "       'total_supply', 'max_supply', 'ath', 'ath_change_percentage',\n",
      "       'ath_date', 'atl', 'atl_change_percentage', 'atl_date', 'roi',\n",
      "       'last_updated'],\n",
      "      dtype='object')\n"
     ]
    }
   ],
   "source": [
    "# Mostrar las columnas para CoinGecko\n",
    "print(df_monedas.columns)"
   ]
  },
  {
   "cell_type": "markdown",
   "metadata": {},
   "source": [
    "El DataFrame \"df_monedas\" contendrá las columnas:\n",
    "- id (identificador único de la moneda).\n",
    "- symbol (símbolo de la moneda, por ejemplo, \"BTC\").\n",
    "- name (nombre de la moneda, por ejemplo, \"Bitcoin\").\n",
    "- image (URL del logo de la moneda).\n",
    "- current_price (precio actual en USD).\n",
    "- market_cap (capitalización de mercado en USD).\n",
    "- market_cap_rank (rango según la capitalización de mercado).\n",
    "- fully_diluted_valuation (valorización completamente diluida en USD).\n",
    "- total_volume (volumen total de comercio en las últimas 24 horas).\n",
    "- high_24h (precio más alto alcanzado en las últimas 24 horas).\n",
    "- low_24h (precio más bajo alcanzado en las últimas 24 horas).\n",
    "- price_change_24h (cambio en el precio en las últimas 24 horas).\n",
    "- price_change_percentage_24h (porcentaje de cambio en el precio en las últimas 24 horas).\n",
    "- market_cap_change_24h (cambio en la capitalización de mercado en las últimas 24 horas).\n",
    "- market_cap_change_percentage_24h (porcentaje de cambio en la capitalización de mercado en las últimas 24 horas).\n",
    "- circulating_supply (suministro circulante actual de la moneda).\n",
    "- total_supply (suministro total de la moneda).\n",
    "- max_supply (suministro máximo de la moneda).\n",
    "- ath (precio más alto alcanzado en toda la historia).\n",
    "- ath_change_percentage (porcentaje de cambio respecto al precio ATH).\n",
    "- ath_date (fecha en que se alcanzó el precio ATH).\n",
    "- atl (precio más bajo alcanzado en toda la historia).\n",
    "- atl_change_percentage (porcentaje de cambio respecto al precio ATL).\n",
    "- atl_date (fecha en que se alcanzó el precio ATL).\n",
    "- roi (retorno de inversión en porcentaje).\n",
    "- last_updated (última fecha de actualización de los datos)."
   ]
  }
 ],
 "metadata": {
  "kernelspec": {
   "display_name": "Python 3",
   "language": "python",
   "name": "python3"
  },
  "language_info": {
   "codemirror_mode": {
    "name": "ipython",
    "version": 3
   },
   "file_extension": ".py",
   "mimetype": "text/x-python",
   "name": "python",
   "nbconvert_exporter": "python",
   "pygments_lexer": "ipython3",
   "version": "3.13.0"
  }
 },
 "nbformat": 4,
 "nbformat_minor": 2
}
